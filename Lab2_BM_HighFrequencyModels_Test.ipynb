{
 "cells": [
  {
   "cell_type": "markdown",
   "metadata": {},
   "source": [
    "<center> <img src=\"https://upload.wikimedia.org/wikipedia/commons/c/c8/Iteso_logo.jpg\" align=\"center\" width=\"200\" height=\"200\"/> </center>"
   ]
  },
  {
   "cell_type": "markdown",
   "metadata": {},
   "source": [
    "<center><font color=#555555><font size=6> Second Laboratory </font> <br> <br>\n",
    "    \n",
    "<center><font color=#555555><font size=5> Microstructures and Trading Systems </font> <br> <br> <br> <br>\n",
    "\n",
    "<center><font color=#555555><font size=6> Bryan Manica Pineda</font> <br> <br>\n",
    "    \n",
    "<center><font color=#555555><font size=4> if722176@iteso.mx</font> <br> <br>\n",
    "   \n",
    "<center> <font color= #555555> <font size = 4> June. 2022 </a> | <font color= #555555> <font size = 4> Repository: <a href='https://github.com/bmanica/aptmodel-lab2'>Link</a></font>"
   ]
  },
  {
   "cell_type": "markdown",
   "metadata": {},
   "source": [
    "<hr style=\"border:0.02in solid gray\"> </hr>"
   ]
  },
  {
   "cell_type": "markdown",
   "metadata": {},
   "source": [
    "<center> <font color= #555555> <font size = 6> High Frequency Models Testing </font> <br> <br> <font color= #555555> <font size = 5> APT and Roll Model into real world data  </font>"
   ]
  },
  {
   "cell_type": "markdown",
   "metadata": {},
   "source": [
    "<hr style=\"border:0.02in solid gray\"> </hr>"
   ]
  },
  {
   "cell_type": "markdown",
   "metadata": {},
   "source": [
    "<font color= #555555> <font size = 4> Abstract </font>"
   ]
  },
  {
   "cell_type": "markdown",
   "metadata": {},
   "source": [
    "<font color= #6B6B6B> <font size = 3>  Include here a description of the whole work, use no more than 400 words, you can use **Bold** and *Italic* highlights, also you can inclue [links](www.iteso.mx). Usually is a good strategy to generate this text at the very end of the process, since you have to include all aspects of the work, from a brief introduction, to problem definitions and methods used, to finally the results found. </font>"
   ]
  },
  {
   "cell_type": "markdown",
   "metadata": {},
   "source": [
    "<br>"
   ]
  },
  {
   "cell_type": "markdown",
   "metadata": {},
   "source": [
    "# <font color= #6B6B6B> <font size = 6> 1. Introduction </font>"
   ]
  },
  {
   "cell_type": "markdown",
   "metadata": {},
   "source": [
    "<hr style=\"border:0.01in solid gray\"> </hr>"
   ]
  },
  {
   "cell_type": "markdown",
   "metadata": {},
   "source": [
    "This is an introduction, normally, it is done at the very end, when all the other content in the notebook is completed but just before the abstract (which is short version of the introduction) ... "
   ]
  },
  {
   "cell_type": "markdown",
   "metadata": {},
   "source": [
    "<br>"
   ]
  },
  {
   "cell_type": "markdown",
   "metadata": {},
   "source": [
    "# <font color= #6B6B6B> 2. Install/Load Packages and Depedencies </font>"
   ]
  },
  {
   "cell_type": "markdown",
   "metadata": {},
   "source": [
    "<hr style=\"border:0.01in solid gray\"> </hr>"
   ]
  },
  {
   "cell_type": "markdown",
   "metadata": {},
   "source": [
    "## <font color= #6B6B6B> 2.1 Python Packages </font> <font color= #555555>"
   ]
  },
  {
   "cell_type": "markdown",
   "metadata": {},
   "source": [
    "Para poder correr el presente **notebook** es necesario haber instalado todas aquellas librerias que se encuentran descritas en el archivo adjunto en el repositorio con nombre _requirements.txt_. Dichas dependencias son las siguientes:\n",
    "\n",
    "- **pandas** >= 1.1.0\n",
    "- **numpy** >= 1.19.1\n",
    "- **jupyter** >= 1.0.0\n",
    "- **chart_studio** >= 1.1\n",
    "- **plotly** >= 4.14"
   ]
  },
  {
   "cell_type": "markdown",
   "metadata": {},
   "source": [
    "## <font color= #6B6B6B> 2.2 Files Dependencies </font> <font color= #555555>"
   ]
  },
  {
   "cell_type": "markdown",
   "metadata": {},
   "source": [
    "Además de todas las librerias previamente mencionadas, el correcto funcionamiento de este **notebook** también requiere de algunos datos externos. Estos archivos se encuentran directamente en la carpeta _files_ adjunta dentro de este mismo repositorio:\n",
    "\n",
    "- files/orderbooks_05jul21.json: Archivo tipo json. Datos históricos de diversos orderbooks correspondientes a una hora el 5 de julio del 2021."
   ]
  },
  {
   "cell_type": "markdown",
   "metadata": {},
   "source": [
    "## <font color= #6E6E6E> 2.3 Install Packages</font>"
   ]
  },
  {
   "cell_type": "markdown",
   "metadata": {},
   "source": [
    "En caso de que no se hayan instalado los paquetes dentro del ambiente virtual sobre el cual se está trabajando, se pueden instalar directamente dentro de este cuaderno. A continuación se encuentra la estructura de comandos necesarias para instalar las librerias, solo correr en caso de que no se hayan instalado previamente:"
   ]
  },
  {
   "cell_type": "code",
   "execution_count": 1,
   "metadata": {},
   "outputs": [],
   "source": [
    "%%capture\n",
    "\n",
    "# Install all the pip packages in the requirements.txt\n",
    "import sys\n",
    "!{sys.executable} -m pip install -r requirements.txt"
   ]
  },
  {
   "cell_type": "markdown",
   "metadata": {},
   "source": [
    "## <font color= #6E6E6E> 2.3 Load Packages and Scripts</font>"
   ]
  },
  {
   "cell_type": "markdown",
   "metadata": {},
   "source": [
    "Ya con los requerimentos computacionales bien definidos, ahora se proseguirá a cargar tanto las librerias como los scripts de python 3 para poder realizar el análisis correspondiente."
   ]
  },
  {
   "cell_type": "code",
   "execution_count": 1,
   "metadata": {},
   "outputs": [],
   "source": [
    "### Required packages\n",
    "import pandas as pd\n",
    "import numpy as np\n",
    "\n",
    "### Required local scripts\n",
    "import data as dt\n",
    "import functions as fn\n",
    "import visualizations as vz"
   ]
  },
  {
   "cell_type": "markdown",
   "metadata": {},
   "source": [
    "<br>"
   ]
  },
  {
   "cell_type": "markdown",
   "metadata": {},
   "source": [
    "# <font color= #6B6B6B> 3. Data Description </font>"
   ]
  },
  {
   "cell_type": "markdown",
   "metadata": {},
   "source": [
    "<hr style=\"border:0.01in solid gray\"> </hr>"
   ]
  },
  {
   "cell_type": "markdown",
   "metadata": {},
   "source": [
    "Para poder realizar este laboratorio en particular, se nos fueron proporcionados los datos previamente mencionados. A continuación se comenzará a describir un poco más a detalle la estructura de los mismos para entender de mejor manera la materia prima sobre la cual se estará trabajando.\n",
    "\n",
    "**Order Book.**\n",
    "\n",
    "Este conjunto de datos se encuentra bajo el formato _json_, por tanto se compone por una lista de diccionarios donde cada subconjuto de valores responde a un libro de órdenes del activo con clave de pizarra **_BTCUSDT_**, dicho orderbook se encuentra asociado a cada punto del tiempo que representa la llave del diccionario. La actualización de dichos libros se da en términos de segundos, por lo tanto la ventana de tiempo sobre la cual trabajaremos es de un poco más de $1$ hora. A pesar de que pareciera que no tenemos tantos datos, la realidad es que cada libro cuenta con una cantidad suficiente de datos para poder extraer información relevante a ese punto del tiempo que se encuentra asociado."
   ]
  },
  {
   "cell_type": "markdown",
   "metadata": {},
   "source": [
    "## <font color= #6B6B6B> 3.1. Order Book </font>"
   ]
  },
  {
   "cell_type": "markdown",
   "metadata": {},
   "source": [
    "Contamos entonces con una lista de diccionarios donde cada llave representa un punto en el tiempo donde se contaba con ese determinado libro de órdenes, ahora lo que haremos será ir definiendo y mostrando un poco mas sobre los datos ya desde una perspectiva un poco más visual."
   ]
  },
  {
   "cell_type": "code",
   "execution_count": 2,
   "metadata": {},
   "outputs": [
    {
     "name": "stdout",
     "output_type": "stream",
     "text": [
      "El primer tiempo registrado está en: 2021-07-05 13:06:46.571000+00:00, y el último en: 2021-07-05 14:06:46.412000+00:00\n"
     ]
    }
   ],
   "source": [
    "### Let's visualize the keys range.\n",
    "ob_data = dt.ob_data_bit\n",
    "range_ob = pd.to_datetime(pd.Series(list(ob_data.keys()))).sort_values()\n",
    "print(f'El primer tiempo registrado está en: {range_ob[0]}, y el último en: {range_ob.tail(1).item()}')"
   ]
  },
  {
   "cell_type": "markdown",
   "metadata": {},
   "source": [
    "Como podemos observar ya directamente de la descripción de los rangos para las llaves de los orderbooks contamos con un poco menos de $1$ hora de información correspondiente al día **2021-07-05** entre $1$ y $2$ de la tarde."
   ]
  },
  {
   "cell_type": "code",
   "execution_count": 3,
   "metadata": {},
   "outputs": [
    {
     "name": "stdout",
     "output_type": "stream",
     "text": [
      "En una hora de tiempo contamos con 2,401 libros\n"
     ]
    }
   ],
   "source": [
    "### Let's see how many books do we have\n",
    "print(f'En una hora de tiempo contamos con {len(list(ob_data.keys())):,} libros')"
   ]
  },
  {
   "cell_type": "markdown",
   "metadata": {},
   "source": [
    "Entonces si bien pareciera que $1$ hora de tiempo no puede aportar mucha información, la realidad es que dentro de este horario contamos con alrededor de $2,401$ libros. A continuación se mostrará un poco respecto al contenido de cada orderbook, esto con la intención de alcanzar a percibir la cantidad de datos que tenemos."
   ]
  },
  {
   "cell_type": "code",
   "execution_count": 4,
   "metadata": {},
   "outputs": [
    {
     "name": "stdout",
     "output_type": "stream",
     "text": [
      "Este primer orderbook corresponde al punto en el tiempo. 2021-07-05 13:06:46.571000+00:00:\n"
     ]
    },
    {
     "data": {
      "text/html": [
       "<div>\n",
       "<style scoped>\n",
       "    .dataframe tbody tr th:only-of-type {\n",
       "        vertical-align: middle;\n",
       "    }\n",
       "\n",
       "    .dataframe tbody tr th {\n",
       "        vertical-align: top;\n",
       "    }\n",
       "\n",
       "    .dataframe thead th {\n",
       "        text-align: right;\n",
       "    }\n",
       "</style>\n",
       "<table border=\"1\" class=\"dataframe\">\n",
       "  <thead>\n",
       "    <tr style=\"text-align: right;\">\n",
       "      <th></th>\n",
       "      <th>bid_size</th>\n",
       "      <th>bid</th>\n",
       "      <th>ask</th>\n",
       "      <th>ask_size</th>\n",
       "    </tr>\n",
       "  </thead>\n",
       "  <tbody>\n",
       "    <tr>\n",
       "      <th>0</th>\n",
       "      <td>0.000400</td>\n",
       "      <td>28270.0</td>\n",
       "      <td>28275.0</td>\n",
       "      <td>0.025405</td>\n",
       "    </tr>\n",
       "    <tr>\n",
       "      <th>1</th>\n",
       "      <td>0.009787</td>\n",
       "      <td>28269.0</td>\n",
       "      <td>28276.0</td>\n",
       "      <td>0.516810</td>\n",
       "    </tr>\n",
       "    <tr>\n",
       "      <th>2</th>\n",
       "      <td>0.008168</td>\n",
       "      <td>28268.0</td>\n",
       "      <td>28277.0</td>\n",
       "      <td>0.005044</td>\n",
       "    </tr>\n",
       "    <tr>\n",
       "      <th>3</th>\n",
       "      <td>0.995787</td>\n",
       "      <td>28266.0</td>\n",
       "      <td>28278.0</td>\n",
       "      <td>0.377374</td>\n",
       "    </tr>\n",
       "    <tr>\n",
       "      <th>4</th>\n",
       "      <td>1.038704</td>\n",
       "      <td>28265.0</td>\n",
       "      <td>28280.0</td>\n",
       "      <td>1.179715</td>\n",
       "    </tr>\n",
       "  </tbody>\n",
       "</table>\n",
       "</div>"
      ],
      "text/plain": [
       "   bid_size      bid      ask  ask_size\n",
       "0  0.000400  28270.0  28275.0  0.025405\n",
       "1  0.009787  28269.0  28276.0  0.516810\n",
       "2  0.008168  28268.0  28277.0  0.005044\n",
       "3  0.995787  28266.0  28278.0  0.377374\n",
       "4  1.038704  28265.0  28280.0  1.179715"
      ]
     },
     "execution_count": 4,
     "metadata": {},
     "output_type": "execute_result"
    }
   ],
   "source": [
    "### Let's see the first orderbook values\n",
    "print(f'Este primer orderbook corresponde al punto en el tiempo. {range_ob[0]}:')\n",
    "list(ob_data.values())[0].head(5)"
   ]
  },
  {
   "cell_type": "markdown",
   "metadata": {},
   "source": [
    "Como podemos percibir del dataframe correspondiente al primer punto del tiempo, contamos con diferentes atributos:\n",
    "\n",
    "- **bid_size**: Corresponde al volumen posicionado al del **bid** asociado.\n",
    "- **bid**: Responde directamente al precio más alto que un comprador esta dispuesto a pagar por el activo de interés.\n",
    "- **ask**: Es el precio más bajo al cual un vendedor esta dispuesto a vender el activo.\n",
    "- **ask_size**: Corresponde al volumen posicionado al del **ask** asociado.\n",
    "\n",
    "Todas y cada una de las llaves correspondientes a los datos del orderbook contienen un dataframe con las mismas características que se encuentra desplegado. Entonces a partir de estos valores es que se estará experimentando y observando la eficacia de los modelos de alta frecuencia propuestos."
   ]
  },
  {
   "cell_type": "markdown",
   "metadata": {},
   "source": [
    "<br>"
   ]
  },
  {
   "cell_type": "markdown",
   "metadata": {},
   "source": [
    "# <font color= #6B6B6B> 4. APT Model Testing </font>"
   ]
  },
  {
   "cell_type": "markdown",
   "metadata": {},
   "source": [
    "<hr style=\"border:0.01in solid gray\"> </hr>"
   ]
  },
  {
   "cell_type": "markdown",
   "metadata": {},
   "source": [
    "Con la intención de poder eficientar tiempos computacionales se decide trabajar sobre una serie de _scripts_ de **python 3**, los cuales se encuentran anexos al repositorio <font color= #555555> <a href='https://github.com/bmanica/aptmodel-lab2'>aptmodel-lab2</a></font>. En ellos se encuentra predefinida una serie de cálculos los cuales nos ayudarán a realizar el test y analizar el cumplimiento del modelo frente a situaciones de la vida real.\n",
    "\n",
    "Antes de poder entrar en detalle respecto a la serie de pruebas realizadas para el **APT**, es importante tener claro el origen y la teoría dentrás de este modelo de alta frecuencia. En este sentido el modelo parte de su definición básica _\"poder encontrar el pago futuro respecto a un activo financiero que presenta flujos\"_, de manera que la ecuación básica para partir es la siguiente:\n",
    "\n",
    "$$x_{t+1}=p_{t+1}+d_{t+1}$$\n",
    "\n",
    "donde:\n",
    "\n",
    "- $x_{t+1}: \\text{Pago del activo a realizarse a un momento futuro}$\n",
    "- $p_{t+1}: \\text{Precio futuro de la acción}$\n",
    "- $d_{t+1}: \\text{Dividendo que se espera pague la acción a un momento futuro}$\n",
    "\n",
    "Ahora hasta el momento se encuentra definido el pago que se podría esperar en un momento $t+1$, sin embargo el concepto económico que nos ayuda  "
   ]
  },
  {
   "cell_type": "code",
   "execution_count": 5,
   "metadata": {},
   "outputs": [
    {
     "name": "stdout",
     "output_type": "stream",
     "text": [
      "The keys for apt model test with all orders are: ['simple_mid_price', 'weighted_mid_price']\n",
      "The keys for apt model test with tob orders are: ['simple_mid_price', 'weighted_mid_price_a', 'weighted_mid_price_b']\n"
     ]
    }
   ],
   "source": [
    "### Let's define the apt testing data frames.\n",
    "apt_all = fn.apt_check_all(ob_data)\n",
    "apt_tob = fn.apt_check_tob(ob_data)\n",
    "\n",
    "print(f'The keys for apt model test with all orders are: {list(apt_all.keys())}')\n",
    "print(f'The keys for apt model test with tob orders are: {list(apt_tob.keys())}')"
   ]
  },
  {
   "cell_type": "markdown",
   "metadata": {},
   "source": [
    "## <font color= #6B6B6B> 4.1. Testing All Orders </font>"
   ]
  },
  {
   "cell_type": "markdown",
   "metadata": {},
   "source": [
    "Este primer enfoque que se propone analizar incluye todas las órdenes de todos los libros de órdenes presentes en el diccionario de entrada, es decir, para este primer punto de análisis queremos observar los cambios en los precios de prácticamente todas las potenciales operaciones de los orderbooks (aproximadamente unos $60,000$ registros a consolidar). La metodología que se propone es la misma que se menciona en la definición del modelo, se busca encontrar la cantidad de veces que el **Mid-Price** sigue un proceso estocástico tipo _Martingala_ para cada minuto en el tiempo registrado. "
   ]
  },
  {
   "cell_type": "markdown",
   "metadata": {},
   "source": [
    "### <font color= #6B6B6B> 4.1.1. Simple Mid-Price </font>"
   ]
  },
  {
   "cell_type": "markdown",
   "metadata": {},
   "source": [
    "Para este análisis se calcula es **Simple Mid-Price** el cual se define matemáticamente por la siguiente expresión:\n",
    "\n",
    "$$\\text{Mid-Price} = \\frac{\\text{bid} + \\text{ask}}{2}$$\n",
    "\n",
    "Y es este valor el que se calcula para todas y cada una de las órdenes presentes en cada orderbook del rango de datos con el que se cuenta."
   ]
  },
  {
   "cell_type": "code",
   "execution_count": 23,
   "metadata": {},
   "outputs": [
    {
     "name": "stdout",
     "output_type": "stream",
     "text": [
      "The min proportion where the mid-price follows martingale process is 0.67\n",
      "and it happened on 2021-07-05 13:31:00\n"
     ]
    },
    {
     "data": {
      "text/html": [
       "<div>\n",
       "<style scoped>\n",
       "    .dataframe tbody tr th:only-of-type {\n",
       "        vertical-align: middle;\n",
       "    }\n",
       "\n",
       "    .dataframe tbody tr th {\n",
       "        vertical-align: top;\n",
       "    }\n",
       "\n",
       "    .dataframe thead th {\n",
       "        text-align: right;\n",
       "    }\n",
       "</style>\n",
       "<table border=\"1\" class=\"dataframe\">\n",
       "  <thead>\n",
       "    <tr style=\"text-align: right;\">\n",
       "      <th></th>\n",
       "      <th>Exp 1</th>\n",
       "      <th>Exp 2</th>\n",
       "      <th>P. Exp 1</th>\n",
       "      <th>P. Exp 2</th>\n",
       "    </tr>\n",
       "    <tr>\n",
       "      <th>Time</th>\n",
       "      <th></th>\n",
       "      <th></th>\n",
       "      <th></th>\n",
       "      <th></th>\n",
       "    </tr>\n",
       "  </thead>\n",
       "  <tbody>\n",
       "    <tr>\n",
       "      <th>2021-07-05 13:06:00</th>\n",
       "      <td>177</td>\n",
       "      <td>47</td>\n",
       "      <td>0.79</td>\n",
       "      <td>0.21</td>\n",
       "    </tr>\n",
       "    <tr>\n",
       "      <th>2021-07-05 13:07:00</th>\n",
       "      <td>781</td>\n",
       "      <td>243</td>\n",
       "      <td>0.76</td>\n",
       "      <td>0.24</td>\n",
       "    </tr>\n",
       "    <tr>\n",
       "      <th>2021-07-05 13:08:00</th>\n",
       "      <td>799</td>\n",
       "      <td>200</td>\n",
       "      <td>0.80</td>\n",
       "      <td>0.20</td>\n",
       "    </tr>\n",
       "    <tr>\n",
       "      <th>2021-07-05 13:09:00</th>\n",
       "      <td>750</td>\n",
       "      <td>224</td>\n",
       "      <td>0.77</td>\n",
       "      <td>0.23</td>\n",
       "    </tr>\n",
       "    <tr>\n",
       "      <th>2021-07-05 13:10:00</th>\n",
       "      <td>789</td>\n",
       "      <td>235</td>\n",
       "      <td>0.77</td>\n",
       "      <td>0.23</td>\n",
       "    </tr>\n",
       "  </tbody>\n",
       "</table>\n",
       "</div>"
      ],
      "text/plain": [
       "                     Exp 1  Exp 2  P. Exp 1  P. Exp 2\n",
       "Time                                                 \n",
       "2021-07-05 13:06:00    177     47      0.79      0.21\n",
       "2021-07-05 13:07:00    781    243      0.76      0.24\n",
       "2021-07-05 13:08:00    799    200      0.80      0.20\n",
       "2021-07-05 13:09:00    750    224      0.77      0.23\n",
       "2021-07-05 13:10:00    789    235      0.77      0.23"
      ]
     },
     "execution_count": 23,
     "metadata": {},
     "output_type": "execute_result"
    }
   ],
   "source": [
    "### Let's see the data frame for simple mid-price test\n",
    "print(f'''The min proportion where the mid-price follows martingale process is {apt_all['simple_mid_price']['P. Exp 1'].min()}\n",
    "and it happened on {apt_all['simple_mid_price']['P. Exp 1'].idxmin()}''')\n",
    "\n",
    "apt_all['simple_mid_price'].head()"
   ]
  },
  {
   "cell_type": "markdown",
   "metadata": {},
   "source": [
    "### <font color= #6B6B6B> 4.1.2. Weighted Mid-Price </font>"
   ]
  },
  {
   "cell_type": "markdown",
   "metadata": {},
   "source": [
    "Para términos del **Weighted Mid-Price** se calculó a través de la siguiente expresión matemática:\n",
    "\n",
    "$$\\text{Weighted Mid-Price} = \\bigg(\\frac{\\text{bv}}{\\sum_{i=1}^{n}\\big(\\text{bv}_{i}+\\text{av}_{i}\\big)} \\bigg) \\text{ap} + \\bigg(\\frac{\\text{av}}{\\sum_{i=1}^{n}\\big(\\text{bv}_{i}+\\text{av}_{i}\\big)} \\bigg) \\text{bp}$$\n",
    "\n",
    "donde:\n",
    "\n",
    "- $\\text{bv}: \\text{bid volume}$\n",
    "- $\\text{av}: \\text{ask volume}$\n",
    "- $\\text{ap}: \\text{ask price}$\n",
    "- $\\text{bp}: \\text{bid price}$\n",
    "\n",
    "En este sentido y al estar tomando practicamente todos las órdenes presentes, la profundidad detonada por $i$ solo se define para su mismo nivel."
   ]
  },
  {
   "cell_type": "code",
   "execution_count": 24,
   "metadata": {},
   "outputs": [
    {
     "name": "stdout",
     "output_type": "stream",
     "text": [
      "The max proportion where the mid-price follows martingale process is 0.01\n",
      "and it happened on 2021-07-05 14:02:00\n"
     ]
    },
    {
     "data": {
      "text/html": [
       "<div>\n",
       "<style scoped>\n",
       "    .dataframe tbody tr th:only-of-type {\n",
       "        vertical-align: middle;\n",
       "    }\n",
       "\n",
       "    .dataframe tbody tr th {\n",
       "        vertical-align: top;\n",
       "    }\n",
       "\n",
       "    .dataframe thead th {\n",
       "        text-align: right;\n",
       "    }\n",
       "</style>\n",
       "<table border=\"1\" class=\"dataframe\">\n",
       "  <thead>\n",
       "    <tr style=\"text-align: right;\">\n",
       "      <th></th>\n",
       "      <th>Exp 1</th>\n",
       "      <th>Exp 2</th>\n",
       "      <th>P. Exp 1</th>\n",
       "      <th>P. Exp 2</th>\n",
       "    </tr>\n",
       "    <tr>\n",
       "      <th>Time</th>\n",
       "      <th></th>\n",
       "      <th></th>\n",
       "      <th></th>\n",
       "      <th></th>\n",
       "    </tr>\n",
       "  </thead>\n",
       "  <tbody>\n",
       "    <tr>\n",
       "      <th>2021-07-05 13:06:00</th>\n",
       "      <td>0</td>\n",
       "      <td>224</td>\n",
       "      <td>0.0</td>\n",
       "      <td>1.0</td>\n",
       "    </tr>\n",
       "    <tr>\n",
       "      <th>2021-07-05 13:07:00</th>\n",
       "      <td>0</td>\n",
       "      <td>1024</td>\n",
       "      <td>0.0</td>\n",
       "      <td>1.0</td>\n",
       "    </tr>\n",
       "    <tr>\n",
       "      <th>2021-07-05 13:08:00</th>\n",
       "      <td>0</td>\n",
       "      <td>999</td>\n",
       "      <td>0.0</td>\n",
       "      <td>1.0</td>\n",
       "    </tr>\n",
       "    <tr>\n",
       "      <th>2021-07-05 13:09:00</th>\n",
       "      <td>0</td>\n",
       "      <td>974</td>\n",
       "      <td>0.0</td>\n",
       "      <td>1.0</td>\n",
       "    </tr>\n",
       "    <tr>\n",
       "      <th>2021-07-05 13:10:00</th>\n",
       "      <td>0</td>\n",
       "      <td>1024</td>\n",
       "      <td>0.0</td>\n",
       "      <td>1.0</td>\n",
       "    </tr>\n",
       "  </tbody>\n",
       "</table>\n",
       "</div>"
      ],
      "text/plain": [
       "                     Exp 1  Exp 2  P. Exp 1  P. Exp 2\n",
       "Time                                                 \n",
       "2021-07-05 13:06:00      0    224       0.0       1.0\n",
       "2021-07-05 13:07:00      0   1024       0.0       1.0\n",
       "2021-07-05 13:08:00      0    999       0.0       1.0\n",
       "2021-07-05 13:09:00      0    974       0.0       1.0\n",
       "2021-07-05 13:10:00      0   1024       0.0       1.0"
      ]
     },
     "execution_count": 24,
     "metadata": {},
     "output_type": "execute_result"
    }
   ],
   "source": [
    "### Let's see the data frame for weighted mid-price test\n",
    "print(f'''The max proportion where the mid-price follows martingale process is {apt_all['weighted_mid_price']['P. Exp 1'].max()}\n",
    "and it happened on {apt_all['weighted_mid_price']['P. Exp 1'].idxmax()}''')\n",
    "\n",
    "apt_all['weighted_mid_price'].head()"
   ]
  },
  {
   "cell_type": "markdown",
   "metadata": {},
   "source": [
    "## <font color= #6B6B6B> 4.2. Testing Top of the Book Orders </font>"
   ]
  },
  {
   "cell_type": "markdown",
   "metadata": {},
   "source": [
    "En este segundo enfoque de análisis se busca realizar un proceso análogo al previamente descrito, sin embargo, la principal diferencia para este punto se da en que ahora solo se utilizarán los **Mid-Prices** que se definen única y exclusivamente para el _Top of the Book_, es decir, esta nueva propuesta solo tomará un precio para cada libro de órdenes, de manera que el procesamiento de datos se reducirá considerablemente ya que ahora solo se contarán con $2,400$ registros a consolidar por minuto."
   ]
  },
  {
   "cell_type": "markdown",
   "metadata": {},
   "source": [
    "### <font color= #6B6B6B> 4.2.1. Simple Mid-Price </font>"
   ]
  },
  {
   "cell_type": "markdown",
   "metadata": {},
   "source": [
    "Para el cálculo de este **Simple Mid-Price** se define prácticamente la misma fórmula que se utiliza para todas las órdenes, la diferencia principal radica en que ahora solo se tomará el _Top of the Book_, en otras palabras este nuevo análisis solo tomará el mejor **bid** y el mejor **ask** presente en cada libro de órdenes.\n",
    "\n",
    "En este sentido y tratando de llegar a un análisis comparativo entre los **Mid-Prices** del _Top of the Book_ y el resto de las órdenes, podríamos comenzar a intuir que las proporciones donde se cumpla que el precio sigue una martingala con esta nueva estructura de análisis será menor, ya que al tomar siempre el _Top of the Book_ podríamos decir que estaríamos más cerca de \"definir\" la tendencia del precio a cada punto del tiempo, y en ese sentido se podría esperar que las fluctuaciones en el precio fueran mayores en comparación a si tomamos todas las órdenes presentes."
   ]
  },
  {
   "cell_type": "code",
   "execution_count": 25,
   "metadata": {},
   "outputs": [
    {
     "name": "stdout",
     "output_type": "stream",
     "text": [
      "The min proportion where the mid-price follows martingale process is 0.65\n",
      "and it happened on 2021-07-05 13:52:00\n"
     ]
    },
    {
     "data": {
      "text/html": [
       "<div>\n",
       "<style scoped>\n",
       "    .dataframe tbody tr th:only-of-type {\n",
       "        vertical-align: middle;\n",
       "    }\n",
       "\n",
       "    .dataframe tbody tr th {\n",
       "        vertical-align: top;\n",
       "    }\n",
       "\n",
       "    .dataframe thead th {\n",
       "        text-align: right;\n",
       "    }\n",
       "</style>\n",
       "<table border=\"1\" class=\"dataframe\">\n",
       "  <thead>\n",
       "    <tr style=\"text-align: right;\">\n",
       "      <th></th>\n",
       "      <th>Exp 1</th>\n",
       "      <th>Exp 2</th>\n",
       "      <th>P. Exp 1</th>\n",
       "      <th>P. Exp 2</th>\n",
       "    </tr>\n",
       "    <tr>\n",
       "      <th>Time</th>\n",
       "      <th></th>\n",
       "      <th></th>\n",
       "      <th></th>\n",
       "      <th></th>\n",
       "    </tr>\n",
       "  </thead>\n",
       "  <tbody>\n",
       "    <tr>\n",
       "      <th>2021-07-05 13:06:00</th>\n",
       "      <td>6</td>\n",
       "      <td>3</td>\n",
       "      <td>0.67</td>\n",
       "      <td>0.33</td>\n",
       "    </tr>\n",
       "    <tr>\n",
       "      <th>2021-07-05 13:07:00</th>\n",
       "      <td>27</td>\n",
       "      <td>14</td>\n",
       "      <td>0.66</td>\n",
       "      <td>0.34</td>\n",
       "    </tr>\n",
       "    <tr>\n",
       "      <th>2021-07-05 13:08:00</th>\n",
       "      <td>31</td>\n",
       "      <td>9</td>\n",
       "      <td>0.78</td>\n",
       "      <td>0.22</td>\n",
       "    </tr>\n",
       "    <tr>\n",
       "      <th>2021-07-05 13:09:00</th>\n",
       "      <td>27</td>\n",
       "      <td>12</td>\n",
       "      <td>0.69</td>\n",
       "      <td>0.31</td>\n",
       "    </tr>\n",
       "    <tr>\n",
       "      <th>2021-07-05 13:10:00</th>\n",
       "      <td>30</td>\n",
       "      <td>11</td>\n",
       "      <td>0.73</td>\n",
       "      <td>0.27</td>\n",
       "    </tr>\n",
       "  </tbody>\n",
       "</table>\n",
       "</div>"
      ],
      "text/plain": [
       "                     Exp 1  Exp 2  P. Exp 1  P. Exp 2\n",
       "Time                                                 \n",
       "2021-07-05 13:06:00      6      3      0.67      0.33\n",
       "2021-07-05 13:07:00     27     14      0.66      0.34\n",
       "2021-07-05 13:08:00     31      9      0.78      0.22\n",
       "2021-07-05 13:09:00     27     12      0.69      0.31\n",
       "2021-07-05 13:10:00     30     11      0.73      0.27"
      ]
     },
     "execution_count": 25,
     "metadata": {},
     "output_type": "execute_result"
    }
   ],
   "source": [
    "### Now let's render the simple mid-price experiment just for tob\n",
    "print(f'''The min proportion where the mid-price follows martingale process is {apt_tob['simple_mid_price']['P. Exp 1'].min()}\n",
    "and it happened on {apt_tob['simple_mid_price']['P. Exp 1'].idxmin()}''')\n",
    "\n",
    "apt_tob['simple_mid_price'].head()"
   ]
  },
  {
   "cell_type": "code",
   "execution_count": 55,
   "metadata": {},
   "outputs": [
    {
     "name": "stdout",
     "output_type": "stream",
     "text": [
      "With all orders we have a mean proportion of 80.41%\n",
      "With tob orders we have a mean proportion of 72.39%\n"
     ]
    }
   ],
   "source": [
    "### Let's see the mean proportion for experiment 1.\n",
    "print(f'''With all orders we have a mean proportion of {round(apt_all['simple_mid_price']['P. Exp 1'].mean(),4)*100}%''')\n",
    "print(f'''With tob orders we have a mean proportion of {round(apt_tob['simple_mid_price']['P. Exp 1'].mean(),4)*100}%''')"
   ]
  },
  {
   "cell_type": "markdown",
   "metadata": {},
   "source": [
    "### <font color= #6B6B6B> 4.2.2. Weighted Mid-Price </font>"
   ]
  },
  {
   "cell_type": "code",
   "execution_count": 26,
   "metadata": {},
   "outputs": [
    {
     "name": "stdout",
     "output_type": "stream",
     "text": [
      "The min proportion where mid-price follows martingale process is 0.65\n",
      "and it happened on 2021-07-05 13:08:00\n"
     ]
    },
    {
     "data": {
      "text/html": [
       "<div>\n",
       "<style scoped>\n",
       "    .dataframe tbody tr th:only-of-type {\n",
       "        vertical-align: middle;\n",
       "    }\n",
       "\n",
       "    .dataframe tbody tr th {\n",
       "        vertical-align: top;\n",
       "    }\n",
       "\n",
       "    .dataframe thead th {\n",
       "        text-align: right;\n",
       "    }\n",
       "</style>\n",
       "<table border=\"1\" class=\"dataframe\">\n",
       "  <thead>\n",
       "    <tr style=\"text-align: right;\">\n",
       "      <th></th>\n",
       "      <th>Exp 1</th>\n",
       "      <th>Exp 2</th>\n",
       "      <th>P. Exp 1</th>\n",
       "      <th>P. Exp 2</th>\n",
       "    </tr>\n",
       "    <tr>\n",
       "      <th>Time</th>\n",
       "      <th></th>\n",
       "      <th></th>\n",
       "      <th></th>\n",
       "      <th></th>\n",
       "    </tr>\n",
       "  </thead>\n",
       "  <tbody>\n",
       "    <tr>\n",
       "      <th>2021-07-05 13:06:00</th>\n",
       "      <td>6</td>\n",
       "      <td>3</td>\n",
       "      <td>0.67</td>\n",
       "      <td>0.33</td>\n",
       "    </tr>\n",
       "    <tr>\n",
       "      <th>2021-07-05 13:07:00</th>\n",
       "      <td>27</td>\n",
       "      <td>14</td>\n",
       "      <td>0.66</td>\n",
       "      <td>0.34</td>\n",
       "    </tr>\n",
       "    <tr>\n",
       "      <th>2021-07-05 13:08:00</th>\n",
       "      <td>26</td>\n",
       "      <td>14</td>\n",
       "      <td>0.65</td>\n",
       "      <td>0.35</td>\n",
       "    </tr>\n",
       "    <tr>\n",
       "      <th>2021-07-05 13:09:00</th>\n",
       "      <td>26</td>\n",
       "      <td>13</td>\n",
       "      <td>0.67</td>\n",
       "      <td>0.33</td>\n",
       "    </tr>\n",
       "    <tr>\n",
       "      <th>2021-07-05 13:10:00</th>\n",
       "      <td>27</td>\n",
       "      <td>14</td>\n",
       "      <td>0.66</td>\n",
       "      <td>0.34</td>\n",
       "    </tr>\n",
       "  </tbody>\n",
       "</table>\n",
       "</div>"
      ],
      "text/plain": [
       "                     Exp 1  Exp 2  P. Exp 1  P. Exp 2\n",
       "Time                                                 \n",
       "2021-07-05 13:06:00      6      3      0.67      0.33\n",
       "2021-07-05 13:07:00     27     14      0.66      0.34\n",
       "2021-07-05 13:08:00     26     14      0.65      0.35\n",
       "2021-07-05 13:09:00     26     13      0.67      0.33\n",
       "2021-07-05 13:10:00     27     14      0.66      0.34"
      ]
     },
     "execution_count": 26,
     "metadata": {},
     "output_type": "execute_result"
    }
   ],
   "source": [
    "### Let's see now the tob experiments for the first way of calculation of weighted mid-price\n",
    "print(f'''The min proportion where mid-price follows martingale process is {apt_tob['weighted_mid_price_a']['P. Exp 1'].min()}\n",
    "and it happened on {apt_tob['weighted_mid_price_a']['P. Exp 1'].idxmin()}''')\n",
    "\n",
    "apt_tob['weighted_mid_price_a'].head()"
   ]
  },
  {
   "cell_type": "markdown",
   "metadata": {},
   "source": [
    "### <font color= #6B6B6B> 4.2.3. Comparing with alternative Weighted Mid-Price </font>"
   ]
  },
  {
   "cell_type": "code",
   "execution_count": 27,
   "metadata": {},
   "outputs": [
    {
     "name": "stdout",
     "output_type": "stream",
     "text": [
      "The min proportion where mid-price follows martingale process is 0.65\n",
      "and it happened on 2021-07-05 13:08:00\n"
     ]
    },
    {
     "data": {
      "text/html": [
       "<div>\n",
       "<style scoped>\n",
       "    .dataframe tbody tr th:only-of-type {\n",
       "        vertical-align: middle;\n",
       "    }\n",
       "\n",
       "    .dataframe tbody tr th {\n",
       "        vertical-align: top;\n",
       "    }\n",
       "\n",
       "    .dataframe thead th {\n",
       "        text-align: right;\n",
       "    }\n",
       "</style>\n",
       "<table border=\"1\" class=\"dataframe\">\n",
       "  <thead>\n",
       "    <tr style=\"text-align: right;\">\n",
       "      <th></th>\n",
       "      <th>Exp 1</th>\n",
       "      <th>Exp 2</th>\n",
       "      <th>P. Exp 1</th>\n",
       "      <th>P. Exp 2</th>\n",
       "    </tr>\n",
       "    <tr>\n",
       "      <th>Time</th>\n",
       "      <th></th>\n",
       "      <th></th>\n",
       "      <th></th>\n",
       "      <th></th>\n",
       "    </tr>\n",
       "  </thead>\n",
       "  <tbody>\n",
       "    <tr>\n",
       "      <th>2021-07-05 13:06:00</th>\n",
       "      <td>6</td>\n",
       "      <td>3</td>\n",
       "      <td>0.67</td>\n",
       "      <td>0.33</td>\n",
       "    </tr>\n",
       "    <tr>\n",
       "      <th>2021-07-05 13:07:00</th>\n",
       "      <td>27</td>\n",
       "      <td>14</td>\n",
       "      <td>0.66</td>\n",
       "      <td>0.34</td>\n",
       "    </tr>\n",
       "    <tr>\n",
       "      <th>2021-07-05 13:08:00</th>\n",
       "      <td>26</td>\n",
       "      <td>14</td>\n",
       "      <td>0.65</td>\n",
       "      <td>0.35</td>\n",
       "    </tr>\n",
       "    <tr>\n",
       "      <th>2021-07-05 13:09:00</th>\n",
       "      <td>26</td>\n",
       "      <td>13</td>\n",
       "      <td>0.67</td>\n",
       "      <td>0.33</td>\n",
       "    </tr>\n",
       "    <tr>\n",
       "      <th>2021-07-05 13:10:00</th>\n",
       "      <td>27</td>\n",
       "      <td>14</td>\n",
       "      <td>0.66</td>\n",
       "      <td>0.34</td>\n",
       "    </tr>\n",
       "  </tbody>\n",
       "</table>\n",
       "</div>"
      ],
      "text/plain": [
       "                     Exp 1  Exp 2  P. Exp 1  P. Exp 2\n",
       "Time                                                 \n",
       "2021-07-05 13:06:00      6      3      0.67      0.33\n",
       "2021-07-05 13:07:00     27     14      0.66      0.34\n",
       "2021-07-05 13:08:00     26     14      0.65      0.35\n",
       "2021-07-05 13:09:00     26     13      0.67      0.33\n",
       "2021-07-05 13:10:00     27     14      0.66      0.34"
      ]
     },
     "execution_count": 27,
     "metadata": {},
     "output_type": "execute_result"
    }
   ],
   "source": [
    "### Now let's compare it with the alternative way of calculating weighted mid-price\n",
    "print(f'''The min proportion where mid-price follows martingale process is {apt_tob['weighted_mid_price_b']['P. Exp 1'].min()}\n",
    "and it happened on {apt_tob['weighted_mid_price_b']['P. Exp 1'].idxmin()}''')\n",
    "\n",
    "apt_tob['weighted_mid_price_b'].head()"
   ]
  },
  {
   "cell_type": "code",
   "execution_count": 56,
   "metadata": {},
   "outputs": [
    {
     "data": {
      "text/plain": [
       "25"
      ]
     },
     "execution_count": 56,
     "metadata": {},
     "output_type": "execute_result"
    }
   ],
   "source": [
    "### Let's see the cases where the weighted mid prices doesnt match\n",
    "sum(apt_tob['weighted_mid_price_a']['P. Exp 1'] != apt_tob['weighted_mid_price_b']['P. Exp 1'])"
   ]
  },
  {
   "cell_type": "code",
   "execution_count": null,
   "metadata": {},
   "outputs": [],
   "source": []
  },
  {
   "cell_type": "markdown",
   "metadata": {},
   "source": [
    "<br>"
   ]
  },
  {
   "cell_type": "markdown",
   "metadata": {},
   "source": [
    "# <font color= #6B6B6B> 5. Roll Model Testing  </font>"
   ]
  },
  {
   "cell_type": "markdown",
   "metadata": {},
   "source": [
    "<hr style=\"border:0.01in solid gray\"> </hr>"
   ]
  },
  {
   "cell_type": "code",
   "execution_count": null,
   "metadata": {},
   "outputs": [],
   "source": []
  },
  {
   "cell_type": "code",
   "execution_count": null,
   "metadata": {},
   "outputs": [],
   "source": []
  },
  {
   "cell_type": "code",
   "execution_count": null,
   "metadata": {},
   "outputs": [],
   "source": []
  },
  {
   "cell_type": "code",
   "execution_count": null,
   "metadata": {},
   "outputs": [],
   "source": []
  },
  {
   "cell_type": "code",
   "execution_count": null,
   "metadata": {},
   "outputs": [],
   "source": []
  },
  {
   "cell_type": "markdown",
   "metadata": {},
   "source": [
    "<br>"
   ]
  },
  {
   "cell_type": "markdown",
   "metadata": {},
   "source": [
    "# <font color= #6B6B6B> 5. Results and Visual Resources  </font>"
   ]
  },
  {
   "cell_type": "markdown",
   "metadata": {},
   "source": [
    "<hr style=\"border:0.01in solid gray\"> </hr>"
   ]
  },
  {
   "cell_type": "markdown",
   "metadata": {},
   "source": [
    "## <font color= #6B6B6B> 5.1 Results of first processes </font>"
   ]
  },
  {
   "cell_type": "code",
   "execution_count": 6,
   "metadata": {},
   "outputs": [],
   "source": [
    "# DELETE THIS CELL IN YOUR FILE\n",
    "\n",
    "# Separate your results according to the main processes you are working on"
   ]
  },
  {
   "cell_type": "markdown",
   "metadata": {},
   "source": [
    "<br>"
   ]
  },
  {
   "cell_type": "markdown",
   "metadata": {},
   "source": [
    "## <font color= #6B6B6B> 5.2 Results of another proces </font>"
   ]
  },
  {
   "cell_type": "code",
   "execution_count": 7,
   "metadata": {},
   "outputs": [],
   "source": [
    "# DELETE THIS CELL IN YOUR FILE\n",
    "\n",
    "# You can have several processes with which you are obtaining the results you need."
   ]
  },
  {
   "cell_type": "markdown",
   "metadata": {},
   "source": [
    "<br>"
   ]
  },
  {
   "cell_type": "markdown",
   "metadata": {},
   "source": [
    "# <font color= #6B6B6B> 6. Conclusions  </font>"
   ]
  },
  {
   "cell_type": "markdown",
   "metadata": {},
   "source": [
    "<hr style=\"border:0.01in solid gray\"> </hr>"
   ]
  },
  {
   "cell_type": "markdown",
   "metadata": {},
   "source": []
  },
  {
   "cell_type": "code",
   "execution_count": null,
   "metadata": {},
   "outputs": [],
   "source": []
  },
  {
   "cell_type": "markdown",
   "metadata": {},
   "source": [
    "<br>"
   ]
  },
  {
   "cell_type": "markdown",
   "metadata": {},
   "source": [
    "# <font color= #6B6B6B> 7. References </font>"
   ]
  },
  {
   "cell_type": "markdown",
   "metadata": {},
   "source": [
    "<hr style=\"border:0.01in solid gray\"> </hr>"
   ]
  },
  {
   "cell_type": "markdown",
   "metadata": {},
   "source": [
    "[1] Munnoz, 2020. Python project template. https://github.com/iffranciscome/python-project. (2021)."
   ]
  },
  {
   "cell_type": "markdown",
   "metadata": {},
   "source": [
    "<br>"
   ]
  }
 ],
 "metadata": {
  "kernelspec": {
   "display_name": "Python 3 (ipykernel)",
   "language": "python",
   "name": "python3"
  },
  "language_info": {
   "codemirror_mode": {
    "name": "ipython",
    "version": 3
   },
   "file_extension": ".py",
   "mimetype": "text/x-python",
   "name": "python",
   "nbconvert_exporter": "python",
   "pygments_lexer": "ipython3",
   "version": "3.8.0"
  }
 },
 "nbformat": 4,
 "nbformat_minor": 4
}
